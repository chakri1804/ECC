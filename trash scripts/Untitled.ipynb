{
 "cells": [
  {
   "cell_type": "code",
   "execution_count": 1,
   "metadata": {},
   "outputs": [
    {
     "name": "stderr",
     "output_type": "stream",
     "text": [
      "/home/legion/.local/lib/python2.7/site-packages/ipykernel_launcher.py:74: RuntimeWarning: divide by zero encountered in log10\n"
     ]
    },
    {
     "data": {
      "text/plain": [
       "<Figure size 640x480 with 1 Axes>"
      ]
     },
     "metadata": {},
     "output_type": "display_data"
    },
    {
     "name": "stderr",
     "output_type": "stream",
     "text": [
      "/home/legion/.local/lib/python2.7/site-packages/ipykernel_launcher.py:78: RuntimeWarning: divide by zero encountered in log10\n"
     ]
    }
   ],
   "source": [
    "import numpy as np\n",
    "import matplotlib.pyplot as plt\n",
    "samples = []\n",
    "n = 4\n",
    "k = 3\n",
    "N = 100000\n",
    "\n",
    "np.random.seed(42)\n",
    "\n",
    "A_T = np.array([[1,1,0,1],[1,0,1,1],[0,1,1,1]])\n",
    "H = np.hstack((A_T,np.identity(k)))\n",
    "\n",
    "for i in range(N):\n",
    "    samples.append(np.random.binomial(1,0.5,n))\n",
    "\n",
    "samples = np.array(samples)\n",
    "samples = samples.reshape(N,n)\n",
    "parity = np.zeros((N,k))\n",
    "parity[:,0] = samples[:,0]+samples[:,1]+samples[:,3]\n",
    "parity[:,1] = samples[:,0]+samples[:,2]+samples[:,3]\n",
    "parity[:,2] = samples[:,1]+samples[:,2]+samples[:,3]\n",
    "\n",
    "\n",
    "parity = parity%2\n",
    "Code = np.hstack((samples, parity))\n",
    "Bin_Code = (2*Code)-1\n",
    "\n",
    "lookup = np.array([[0,0,1],\n",
    "[0,1,0],\n",
    "[1,0,0],\n",
    "[1,1,1],\n",
    "[0,1,1],\n",
    "[1,0,1],\n",
    "[1,1,0]])\n",
    "\n",
    "lookup_error = np.array([[0,0,0,0,0,0,1],\n",
    "[0,0,0,0,0,1,0],\n",
    "[0,0,0,0,1,0,0],\n",
    "[0,0,0,1,0,0,0],\n",
    "[0,0,1,0,0,0,0],\n",
    "[0,1,0,0,0,0,0],\n",
    "[1,0,0,0,0,0,0]])\n",
    "\n",
    "###### Graph Calculation\n",
    "SNR_arr = np.arange(0,7,0.1)\n",
    "Var_arr = (10**(-SNR_arr/10.0))**(7/9)\n",
    "pr1 = []\n",
    "for i in range(len(Var_arr)):\n",
    "     noise = np.random.normal(0,Var_arr[i],Code.shape)\n",
    "     Noised_code = Bin_Code+noise\n",
    "     Noised_code = (Noised_code+1)/2\n",
    "     Noised_code = np.where(Noised_code > 0.5, 1.0, 0.0)\n",
    "\n",
    "     Syndrome = np.matmul(Noised_code,H.T)\n",
    "     Syndrome = Syndrome%2\n",
    "\n",
    "     for j in range(N):\n",
    "         for k in range(len(lookup)):\n",
    "             if(np.array_equal(Syndrome[j],lookup[k])):\n",
    "                 Noised_code[j] += lookup_error[k]\n",
    "\n",
    "     Noised_code = Noised_code%2\n",
    "     Err = (Code+Noised_code)%2\n",
    "     #print(Err)\n",
    "     Err1 = np.sum(Err, axis = 1)\n",
    "     #print(Err1)\n",
    "     Err2 = np.count_nonzero(Err1)\n",
    "     pr1.append(Err2/N)\n",
    "\n",
    "# print(pr1)\n",
    "# print(SNR_arr)\n",
    "\n",
    "\n",
    "plt.plot(SNR_arr, 0.5*np.log10(pr1))\n",
    "plt.show()\n",
    "\n",
    "SNR_arr_743 = SNR_arr\n",
    "pr1_743 = 0.5*np.log10(pr1)"
   ]
  },
  {
   "cell_type": "code",
   "execution_count": 4,
   "metadata": {},
   "outputs": [],
   "source": [
    "np.save('SNR_743',SNR_arr_743)\n",
    "np.save('pr_743',pr1_743)"
   ]
  },
  {
   "cell_type": "code",
   "execution_count": 7,
   "metadata": {},
   "outputs": [
    {
     "data": {
      "text/plain": [
       "[<matplotlib.lines.Line2D at 0x7fad0c9d1710>]"
      ]
     },
     "execution_count": 7,
     "metadata": {},
     "output_type": "execute_result"
    },
    {
     "data": {
      "image/png": "[encoded data removed]",
      "text/plain": [
       "<Figure size 432x288 with 1 Axes>"
      ]
     },
     "metadata": {
      "needs_background": "light"
     },
     "output_type": "display_data"
    }
   ],
   "source": [
    "plt.plot(SNR_arr_743,pr1_743)"
   ]
  }
 ],
 "metadata": {
  "kernelspec": {
   "display_name": "Python 3",
   "language": "python",
   "name": "python3"
  },
  "language_info": {
   "codemirror_mode": {
    "name": "ipython",
    "version": 2
   },
   "file_extension": ".py",
   "mimetype": "text/x-python",
   "name": "python",
   "nbconvert_exporter": "python",
   "pygments_lexer": "ipython2",
   "version": "2.7.15rc1"
  }
 },
 "nbformat": 4,
 "nbformat_minor": 2
}
